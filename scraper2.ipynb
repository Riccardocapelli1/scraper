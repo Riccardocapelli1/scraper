{
 "cells": [
  {
   "cell_type": "code",
   "execution_count": 5,
   "metadata": {},
   "outputs": [],
   "source": [
    "from selenium import webdriver\n",
    "from selenium.webdriver.common.by import By\n",
    "from bs4 import BeautifulSoup\n",
    "import time\n",
    "import pandas as pd\n"
   ]
  },
  {
   "cell_type": "code",
   "execution_count": 6,
   "metadata": {},
   "outputs": [],
   "source": [
    "jobs_prompt = ['Analisi dei Dati','Vendite']\n",
    "locations = ['Reggio','Verona']\n",
    "\n",
    "job_head = []\n",
    "job_detail = []"
   ]
  },
  {
   "cell_type": "code",
   "execution_count": 7,
   "metadata": {},
   "outputs": [
    {
     "name": "stdout",
     "output_type": "stream",
     "text": [
      "https://www.linkedin.com/jobs/analisi-dei-dati-jobs-reggio?keywords=Analisi%20dei%20Dati&location=Reggio&locationId=&geoId=102687173&f_TPR=r86400&distance=25&position=1&pageNum=0\n",
      "https://www.linkedin.com/jobs/analisi-dei-dati-jobs-verona?keywords=Analisi%20dei%20Dati&location=Verona&locationId=&geoId=102557975&f_TPR=r86400&distance=25&position=1&pageNum=0\n",
      "https://www.linkedin.com/jobs/vendite-jobs-reggio?keywords=Vendite&location=Reggio&locationId=&geoId=102687173&f_TPR=r86400&distance=25&position=1&pageNum=0\n",
      "https://www.linkedin.com/jobs/vendite-jobs-verona?keywords=Vendite&location=Verona&locationId=&geoId=102557975&f_TPR=r86400&distance=25&position=1&pageNum=0\n"
     ]
    }
   ],
   "source": [
    "for job in jobs_prompt:\n",
    "    for location in locations:\n",
    "        job_name = job\n",
    "        country_name = location\n",
    "        filename = f\"{job_name.lower().replace(' ', '-')}_{country_name.lower().replace(' ', '-')}_{time.strftime('%d-%m-%Y')}.csv\"\n",
    "\n",
    "        job_url = \"\";\n",
    "        for item in job_name.split(\" \"):\n",
    "            if item != job_name.split(\" \")[-1]:\n",
    "                job_url = job_url + item + \"%20\"\n",
    "            else:\n",
    "                job_url = job_url + item\n",
    "\n",
    "        country_url = \"\";\n",
    "        for item in country_name.split(\" \"):\n",
    "            if item != country_name.split(\" \")[-1]:\n",
    "                country_url = country_url + item + \"%20\"\n",
    "            else:\n",
    "                country_url = country_url + item\n",
    "\n",
    "        geoId = \"\"\n",
    "        if \"Amsterdam\" in country_url:\n",
    "            geoId = \"103100785\"\n",
    "        elif \"Berlin\" in country_url:\n",
    "            geoId = \"106967730\"\n",
    "        elif \"Barcelona\" in country_url:\n",
    "            geoId = \"107025191\"\n",
    "        elif \"Reggio\" in country_url:\n",
    "            geoId = \"102687173\"\n",
    "        elif \"Verona\" in country_url:\n",
    "            geoId = \"102557975\"   \n",
    "\n",
    "\n",
    "        url = \"https://www.linkedin.com/jobs/{0}-jobs-{1}?keywords={2}&location={3}&locationId=&geoId={4}&f_TPR=r86400&distance=25&position=1&pageNum=0\".format(job_name.lower().replace(\" \", \"-\"), country_name.lower().replace(\" \", \"-\"), job_url, country_url, geoId)\n",
    "\n",
    "        print(url)"
   ]
  },
  {
   "cell_type": "code",
   "execution_count": 8,
   "metadata": {},
   "outputs": [],
   "source": [
    "#for urls in url:\n",
    "# Creating a webdriver instance\n",
    "browser = webdriver.Firefox()\n",
    "\n",
    "# Opening the url we have just defined in our browser\n",
    "browser.get(url)\n"
   ]
  },
  {
   "cell_type": "code",
   "execution_count": 9,
   "metadata": {},
   "outputs": [
    {
     "name": "stdout",
     "output_type": "stream",
     "text": [
      "Current at:  10 Percentage at:  122.22222222222223 %\r"
     ]
    }
   ],
   "source": [
    "#We find how many jobs are offered.1000\n",
    "jobs_num = browser.find_element(By.CSS_SELECTOR,\"h1>span\").get_attribute(\"innerText\")\n",
    "if len(jobs_num.split(',')) > 1:\n",
    "    jobs_num = int(jobs_num.split(',')[0])*1000\n",
    "else:\n",
    "    jobs_num = int(jobs_num)\n",
    "\n",
    "jobs_num   = int(jobs_num)\n",
    "\n",
    "#We create a while loop to browse all jobs. \n",
    "i = 2\n",
    "while i <= int(jobs_num/2)+1:\n",
    "    #We keep scrollind down to the end of the view.\n",
    "    browser.execute_script(\"window.scrollTo(0, document.body.scrollHeight);\")\n",
    "    i = i + 1\n",
    "    print(\"Current at: \", i, \"Percentage at: \", ((i+1)/(int(jobs_num/2)+1))*100, \"%\",end=\"\\r\")\n",
    "    try:\n",
    "        #We try to click on the load more results buttons in case it is already displayed.\n",
    "        infinite_scroller_button = browser.find_element(By.XPATH, \".//button[@aria-label='Load more results']\")\n",
    "        infinite_scroller_button.click()\n",
    "        time.sleep(0.1)\n",
    "    except:\n",
    "        #If there is no button, there will be an error, so we keep scrolling down.\n",
    "        time.sleep(0.1)\n",
    "        pass"
   ]
  },
  {
   "cell_type": "code",
   "execution_count": 10,
   "metadata": {},
   "outputs": [
    {
     "name": "stdout",
     "output_type": "stream",
     "text": [
      "AREA SALES MANAGER – Polonia e Est Europa\n",
      "Fronius Italia: Candidatura Spontanea generica\n",
      "Sales Officer\n",
      "AREA MANAGER NORD EST PER IL SETTORE EDILE\n",
      "Addetto/a Vendite | Legnago\n",
      "Regional Sales Manager Central Europe\n",
      "Impiegato Supporto Tecnico - Tech Support National\n",
      "Addetto Vendite part-time appartenente alle categorie protette (Legge 68/99) (f/m)\n",
      "Addetto Vendite part-time appartenente alle categorie protette (Legge 68/99) (f/m)\n",
      "Brand Manager - Luxury\n",
      "Technical Support National Solar Energy - impiegato Supporto Tecnico\n",
      "Customer care\n",
      "Responsabile di Negozio _ Verona\n",
      "Event Marketing & Comunicazione - part time e full time - anche prima esperienza\n",
      "Ausiliare Vendite (m/f/x) Categorie Protette (L. 68/99) - Filiale di Verona, Via Mameli (VR)\n",
      "Capo Contabile (M/F)\n",
      "Consulente sap senior\n"
     ]
    }
   ],
   "source": [
    "#We get a list containing all jobs that we have found.\n",
    "job_lists = browser.find_element(By.CLASS_NAME,\"jobs-search__results-list\")\n",
    "jobs_tags = job_lists.find_elements(By.TAG_NAME,\"li\") # return a list\n",
    "\n",
    "#We declare void list to keep track of all obtaind data.\n",
    "job_title_list = []\n",
    "company_name_list = []\n",
    "location_list = []\n",
    "date_list = []\n",
    "job_link_list = []\n",
    "\n",
    "#We loof over every job_element and obtain all the wanted info.\n",
    "for job_element in jobs_tags:\n",
    "        #job_title\n",
    "        job_title = job_element.find_element(By.CSS_SELECTOR,\"h3\").get_attribute(\"innerText\")\n",
    "        job_title_list.append(job_title)\n",
    "        \n",
    "        #company_name\n",
    "        company_name = job_element.find_element(By.CSS_SELECTOR,\"h4\").get_attribute(\"innerText\")\n",
    "        company_name_list.append(company_name)\n",
    "        \n",
    "        #location\n",
    "        location = job_element.find_element(By.CSS_SELECTOR,\"div>div>span\").get_attribute(\"innerText\")\n",
    "        location_list.append(location)\n",
    "        \n",
    "        #date\n",
    "        date = job_element.find_element(By.CSS_SELECTOR,\"div>div>time\").get_attribute(\"datetime\")\n",
    "        date_list.append(date)\n",
    "        \n",
    "        #job_link\n",
    "        job_link = job_element.find_element(By.CSS_SELECTOR,\"a\").get_attribute(\"href\")\n",
    "        job_link_list.append(job_link)\n",
    "\n",
    "        print(job_title)\n",
    "                \n",
    "                #date_print = date\n",
    "                #company_name_print = company_name\n",
    "                #job_title_print = job_title\n",
    "                #location_print = location\n",
    "                #job_link_print = job_link\n",
    "\n",
    "                #job_head = pd.DataFrame({\n",
    "                #    'Date': date_print,\n",
    "                #    'Company': company_name_print,\n",
    "                #    'Title': job_title_print,\n",
    "                #    'Location': location_print,\n",
    "                #    'Link': job_link\n",
    "                #})\n",
    "\n",
    "                ##print(job_head)\n",
    "                #job_head.to_csv('jupiter.csv', index=False)"
   ]
  },
  {
   "cell_type": "code",
   "execution_count": 11,
   "metadata": {},
   "outputs": [
    {
     "ename": "TypeError",
     "evalue": "'WebDriver' object is not iterable",
     "output_type": "error",
     "traceback": [
      "\u001b[0;31m---------------------------------------------------------------------------\u001b[0m",
      "\u001b[0;31mTypeError\u001b[0m                                 Traceback (most recent call last)",
      "Cell \u001b[0;32mIn[11], line 1\u001b[0m\n\u001b[0;32m----> 1\u001b[0m \u001b[39mfor\u001b[39;00m browsers \u001b[39min\u001b[39;00m browser:\n\u001b[1;32m      2\u001b[0m     browser\u001b[39m.\u001b[39mquit()\n",
      "\u001b[0;31mTypeError\u001b[0m: 'WebDriver' object is not iterable"
     ]
    }
   ],
   "source": [
    "browser.quit()"
   ]
  }
 ],
 "metadata": {
  "kernelspec": {
   "display_name": "Python 3",
   "language": "python",
   "name": "python3"
  },
  "language_info": {
   "codemirror_mode": {
    "name": "ipython",
    "version": 3
   },
   "file_extension": ".py",
   "mimetype": "text/x-python",
   "name": "python",
   "nbconvert_exporter": "python",
   "pygments_lexer": "ipython3",
   "version": "3.8.10"
  },
  "orig_nbformat": 4
 },
 "nbformat": 4,
 "nbformat_minor": 2
}
